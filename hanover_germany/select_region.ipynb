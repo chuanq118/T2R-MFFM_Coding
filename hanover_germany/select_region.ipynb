{
 "cells": [
  {
   "cell_type": "markdown",
   "source": [
    "选定一个起始坐标点  \n",
    "确定 tile 长度 / 区域包含 tile 数目\n",
    "给出区域的对角坐标点"
   ],
   "metadata": {
    "collapsed": false
   },
   "id": "276a1f2084c8c571"
  },
  {
   "cell_type": "code",
   "execution_count": 7,
   "id": "initial_id",
   "metadata": {
    "collapsed": true,
    "ExecuteTime": {
     "end_time": "2023-10-17T08:08:53.637870300Z",
     "start_time": "2023-10-17T08:08:51.888371500Z"
    }
   },
   "outputs": [
    {
     "name": "stdout",
     "output_type": "stream",
     "text": [
      "左上角坐标: (52.41135800000027, 9.789616000000565)\n",
      "右下角坐标: (52.402154621846634, 9.804661350385711)\n"
     ]
    }
   ],
   "source": [
    "import pandas as pd\n",
    "import torch\n",
    "import torch.nn.functional as F\n",
    "import matplotlib.pyplot as plt\n",
    "from geopy.distance import geodesic\n",
    "###\n",
    "# 选择一个区域\n",
    "###\n",
    "\n",
    "# 确定每个小方格的对应现实的多少米\n",
    "tile_len = 1\n",
    "# 确定一块区域的包含多少方格\n",
    "region_resolution = (1024, 1024)\n",
    "\n",
    "# 左上角坐标\n",
    "left_top_coordinate = (52.41135800000027, 9.789616000000566)\n",
    "print(f'左上角坐标: {left_top_coordinate}')\n",
    "\n",
    "def diagonal_point(point, dist):\n",
    "    \"\"\"\n",
    "    给出一个点和距离，求出该点所在矩形的对角点\n",
    "    :param point: 点坐标\n",
    "    :param dist: 距离\n",
    "    :return: 对角点坐标\n",
    "    \"\"\"\n",
    "    diagonal_len = (dist ** 2 + dist ** 2) ** 0.5\n",
    "    d = geodesic(kilometers=diagonal_len).destination(point=point, bearing=135)\n",
    "    return d.latitude, d.longitude\n",
    "\n",
    "\n",
    "# 对角点坐标\n",
    "right_bottom_coordinate = diagonal_point(left_top_coordinate, (region_resolution[0] / 1000))\n",
    "print(f'右下角坐标: {right_bottom_coordinate}')"
   ]
  },
  {
   "cell_type": "markdown",
   "source": [
    "提取出所有在该区域内的轨迹点"
   ],
   "metadata": {
    "collapsed": false
   },
   "id": "8bdc95d00c008b0a"
  },
  {
   "cell_type": "code",
   "execution_count": 8,
   "outputs": [
    {
     "name": "stdout",
     "output_type": "stream",
     "text": [
      "Try select all trajectory point in this region...\n",
      "save to file -> [data\\region_demo.csv]\n"
     ]
    }
   ],
   "source": [
    "def extract_all_trajectory_points(param_left_top_coordinate, param_right_bottom_coordinate):\n",
    "    \"\"\"\n",
    "    传入两个对角坐标,划定一块区域\n",
    "    :param param_left_top_coordinate: (latitude, longitude)\n",
    "    :param param_right_bottom_coordinate: (latitude, longitude)\n",
    "    \"\"\"\n",
    "    df = pd.read_csv(r'C:\\Users\\legen\\Documents\\001-论文\\数据集\\Hannover, Germany\\hannover_table_with_coords.csv')\n",
    "    print('Try select all trajectory point in this region...')\n",
    "    # 筛选出所有在坐标区域的点\n",
    "    df = df[(df['latitude'] > param_right_bottom_coordinate[0]) & (df['latitude'] < param_left_top_coordinate[0]) & (df['longitude'] > param_left_top_coordinate[1]) & (df['longitude'] < param_right_bottom_coordinate[1])]\n",
    "    # 保存到文件中\n",
    "    output_file = r'data\\region_demo.csv'\n",
    "    print(f'save to file -> [{output_file}]')\n",
    "    df.to_csv(output_file, index=False)\n",
    "\n",
    "extract_all_trajectory_points(param_left_top_coordinate=left_top_coordinate, param_right_bottom_coordinate=right_bottom_coordinate)\n",
    "print('-------------- ok -----------------')"
   ],
   "metadata": {
    "collapsed": false,
    "ExecuteTime": {
     "end_time": "2023-10-17T08:08:55.956127400Z",
     "start_time": "2023-10-17T08:08:55.618605500Z"
    }
   },
   "id": "13e2e2109bccdfcc"
  },
  {
   "cell_type": "code",
   "execution_count": 26,
   "outputs": [
    {
     "name": "stdout",
     "output_type": "stream",
     "text": [
      "tile_latitude_interval -> 8.987673978159971e-06\n",
      "tile_longitude_interval -> 1.4692724985493691e-05\n",
      "###################################\n",
      "sum vector -> \n",
      "tensor([[0., 0., 0.,  ..., 0., 0., 0.],\n",
      "        [0., 0., 0.,  ..., 0., 0., 0.],\n",
      "        [0., 0., 0.,  ..., 0., 0., 0.],\n",
      "        ...,\n",
      "        [0., 0., 0.,  ..., 0., 0., 0.],\n",
      "        [0., 0., 0.,  ..., 0., 0., 0.],\n",
      "        [0., 0., 0.,  ..., 0., 0., 0.]])\n",
      "###################################\n",
      "###################################\n",
      "sigmoid vector -> \n",
      "tensor([[0.5000, 0.5000, 0.5000,  ..., 0.5000, 0.5000, 0.5000],\n",
      "        [0.5000, 0.5000, 0.5000,  ..., 0.5000, 0.5000, 0.5000],\n",
      "        [0.5000, 0.5000, 0.5000,  ..., 0.5000, 0.5000, 0.5000],\n",
      "        ...,\n",
      "        [0.5000, 0.5000, 0.5000,  ..., 0.5000, 0.5000, 0.5000],\n",
      "        [0.5000, 0.5000, 0.5000,  ..., 0.5000, 0.5000, 0.5000],\n",
      "        [0.5000, 0.5000, 0.5000,  ..., 0.5000, 0.5000, 0.5000]])\n",
      "###################################\n",
      "###################################\n",
      "final vector -> \n",
      "tensor([[0, 0, 0,  ..., 0, 0, 0],\n",
      "        [0, 0, 0,  ..., 0, 0, 0],\n",
      "        [0, 0, 0,  ..., 0, 0, 0],\n",
      "        ...,\n",
      "        [0, 0, 0,  ..., 0, 0, 0],\n",
      "        [0, 0, 0,  ..., 0, 0, 0],\n",
      "        [0, 0, 0,  ..., 0, 0, 0]], dtype=torch.int32)\n",
      "###################################\n",
      "-------------- ok -----------------\n"
     ]
    }
   ],
   "source": [
    "def compute_index(param_latitude, param_longitude, param_left_bottom_coordinate,\n",
    "                  param_latitude_interval, param_longitude_interval):\n",
    "    \"\"\"\n",
    "    传入指定坐标,根据其相对矩形区域左下角坐标(我们是将此点作为坐标原点),给出所在 tile 的索引\n",
    "    :param param_latitude: 目标坐标 latitude\n",
    "    :param param_longitude: 目标坐标 longitude\n",
    "    :param param_left_bottom_coordinate: 左下角坐标点\n",
    "    :param param_latitude_interval: tile 在 latitude 的坐标间隔\n",
    "    :param param_longitude_interval: tile 在 longitude 的坐标间隔\n",
    "    :return: \n",
    "    \"\"\"\n",
    "    tile_latitude_index = int((param_latitude - param_left_bottom_coordinate[0]) / param_latitude_interval)\n",
    "    tile_longitude_index = int((param_longitude - param_left_bottom_coordinate[1]) / param_longitude_interval)\n",
    "    return tile_latitude_index, tile_longitude_index\n",
    "    \n",
    "def compute_trajectory_tile_vector(param_region_resolution, param_left_top_coordinate,\n",
    "                                   param_right_bottom_coordinate, param_dataframe, save_path):\n",
    "    \"\"\"\n",
    "    计算 1024 x 1024 向量矩阵\n",
    "    :param param_region_resolution: \n",
    "    :param param_left_top_coordinate: \n",
    "    :param param_right_bottom_coordinate: \n",
    "    :param param_dataframe: \n",
    "    :param save_path: \n",
    "    :return: \n",
    "    \"\"\"\n",
    "    block_nums = param_region_resolution[0]\n",
    "    latitude_interval = (param_left_top_coordinate[0] - param_right_bottom_coordinate[0]) / block_nums\n",
    "    longitude_interval = (param_right_bottom_coordinate[1] - param_left_top_coordinate[1]) / block_nums\n",
    "    print(f'tile_latitude_interval -> {latitude_interval}')\n",
    "    print(f'tile_longitude_interval -> {longitude_interval}')\n",
    "\n",
    "    tile_vector = torch.zeros(block_nums, block_nums)\n",
    "    \n",
    "    def handle_row(row):\n",
    "        try:\n",
    "            latitude_index, longitude_index = compute_index(row['latitude'], row['longitude'], (param_right_bottom_coordinate[0], param_left_top_coordinate[1]), latitude_interval, longitude_interval)\n",
    "            tile_vector[latitude_index][longitude_index] += 1\n",
    "        except Exception:\n",
    "            print('##############################')\n",
    "            print(f'错误数据: {row}')\n",
    "            print('##############################')\n",
    "        \n",
    "    param_dataframe.apply(handle_row, axis=1)\n",
    "\n",
    "    print('###################################')\n",
    "    print(f'sum vector -> \\n{tile_vector}')\n",
    "    print('###################################')\n",
    "    \n",
    "    # 使用 sigmoid 函数将其转为 0.5 ~ 1 之间的值(没有负值)\n",
    "    tile_vector = F.sigmoid(tile_vector)\n",
    "\n",
    "    print('###################################')\n",
    "    print(f'sigmoid vector -> \\n{tile_vector}')\n",
    "    print('###################################')\n",
    "    \n",
    "    # 从 -1 ~ 1 映射为 0 ~ 255\n",
    "    # vector = ((tile_vector + 1) * 127.5).int()\n",
    "    # 由于数据点过少 改为从 0 ~ 1 -> 64 ~ 255\n",
    "    start_num = 0\n",
    "    end_num = 255\n",
    "    vector = (start_num + ((tile_vector - 0.5) * 2) * (end_num - start_num)).int()\n",
    "    \n",
    "    print('###################################')\n",
    "    print(f'final vector -> \\n{vector}')\n",
    "    print('###################################')\n",
    "        \n",
    "    # 保存图片\n",
    "    plt.imsave(save_path, vector, cmap='gray', vmin=0, vmax=255)\n",
    "\n",
    "df = pd.read_csv('data/region_demo.csv')\n",
    "compute_trajectory_tile_vector(region_resolution, left_top_coordinate, right_bottom_coordinate, df, 'data/region_demo.png')\n",
    "print('-------------- ok -----------------')"
   ],
   "metadata": {
    "collapsed": false,
    "ExecuteTime": {
     "end_time": "2023-10-17T08:48:10.487358400Z",
     "start_time": "2023-10-17T08:48:10.395847900Z"
    }
   },
   "id": "4698cff97552ca0b"
  }
 ],
 "metadata": {
  "kernelspec": {
   "display_name": "Python 3",
   "language": "python",
   "name": "python3"
  },
  "language_info": {
   "codemirror_mode": {
    "name": "ipython",
    "version": 2
   },
   "file_extension": ".py",
   "mimetype": "text/x-python",
   "name": "python",
   "nbconvert_exporter": "python",
   "pygments_lexer": "ipython2",
   "version": "2.7.6"
  }
 },
 "nbformat": 4,
 "nbformat_minor": 5
}
