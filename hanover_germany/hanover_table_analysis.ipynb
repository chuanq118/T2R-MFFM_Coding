{
 "cells": [
  {
   "cell_type": "markdown",
   "source": [
    "计算四个极值坐标点"
   ],
   "metadata": {
    "collapsed": false
   },
   "id": "a6eae5cad1a2820d"
  },
  {
   "cell_type": "code",
   "execution_count": 10,
   "id": "initial_id",
   "metadata": {
    "collapsed": true,
    "ExecuteTime": {
     "end_time": "2023-10-16T08:22:53.737690700Z",
     "start_time": "2023-10-16T08:22:53.422660100Z"
    }
   },
   "outputs": [
    {
     "name": "stdout",
     "output_type": "stream",
     "text": [
      "最大 longitude 坐标值: 9.851006000005594\n",
      "最小 longitude 坐标值: 9.689616000000566\n",
      "最大 latitude 坐标值: 52.48135800000027\n",
      "最小 latitude 坐标值: 52.33294299996999\n"
     ]
    }
   ],
   "source": [
    "import pandas as pd\n",
    "\n",
    "df = pd.read_csv(r'C:\\Users\\legen\\Documents\\1A-论文\\数据集\\Hannover, Germany\\hannover_table_with_coords.csv')\n",
    "\n",
    "# 计算'north_utm'和'east_utm'列的最大值和最小值\n",
    "max_longitude = df['longitude'].max()\n",
    "min_longitude = df['longitude'].min()\n",
    "max_latitude = df['latitude'].max()\n",
    "min_latitude = df['latitude'].min()\n",
    "\n",
    "print(f\"最大 longitude 坐标值: {max_longitude}\")\n",
    "print(f\"最小 longitude 坐标值: {min_longitude}\")\n",
    "print(f\"最大 latitude 坐标值: {max_latitude}\")\n",
    "print(f\"最小 latitude 坐标值: {min_latitude}\")"
   ]
  }
 ],
 "metadata": {
  "kernelspec": {
   "display_name": "Python 3",
   "language": "python",
   "name": "python3"
  },
  "language_info": {
   "codemirror_mode": {
    "name": "ipython",
    "version": 2
   },
   "file_extension": ".py",
   "mimetype": "text/x-python",
   "name": "python",
   "nbconvert_exporter": "python",
   "pygments_lexer": "ipython2",
   "version": "2.7.6"
  }
 },
 "nbformat": 4,
 "nbformat_minor": 5
}
