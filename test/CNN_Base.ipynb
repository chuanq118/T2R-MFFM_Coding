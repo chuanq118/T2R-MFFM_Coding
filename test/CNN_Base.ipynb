{
 "cells": [
  {
   "cell_type": "markdown",
   "source": [
    "## view 改变形状"
   ],
   "metadata": {
    "collapsed": false
   },
   "id": "9be93abd33b7bb7f"
  },
  {
   "cell_type": "code",
   "execution_count": 1,
   "id": "initial_id",
   "metadata": {
    "collapsed": true,
    "ExecuteTime": {
     "end_time": "2023-11-06T07:51:56.756352700Z",
     "start_time": "2023-11-06T07:51:53.521723700Z"
    }
   },
   "outputs": [
    {
     "name": "stdout",
     "output_type": "stream",
     "text": [
      "tensor([[ 1,  2,  3,  4,  5],\n",
      "        [ 6,  7,  8,  9, 10]])\n",
      "tensor([[ 1,  2],\n",
      "        [ 3,  4],\n",
      "        [ 5,  6],\n",
      "        [ 7,  8],\n",
      "        [ 9, 10]])\n"
     ]
    }
   ],
   "source": [
    "import torch\n",
    "\n",
    "tensor :torch.Tensor = torch.tensor([[1,2,3,4,5], [6, 7, 8, 9, 10]])\n",
    "print(tensor)\n",
    "\n",
    "print(tensor.view(5, 2))"
   ]
  },
  {
   "cell_type": "code",
   "execution_count": 1,
   "outputs": [
    {
     "ename": "NameError",
     "evalue": "name 'torch' is not defined",
     "output_type": "error",
     "traceback": [
      "\u001B[1;31m---------------------------------------------------------------------------\u001B[0m",
      "\u001B[1;31mNameError\u001B[0m                                 Traceback (most recent call last)",
      "Cell \u001B[1;32mIn[1], line 2\u001B[0m\n\u001B[0;32m      1\u001B[0m \u001B[38;5;66;03m# 现在这个 tensor 代表一个 2 个批次，每个批次 6 个向量元素的矩阵\u001B[39;00m\n\u001B[1;32m----> 2\u001B[0m tensor \u001B[38;5;241m=\u001B[39m \u001B[43mtorch\u001B[49m\u001B[38;5;241m.\u001B[39mtensor([[\u001B[38;5;241m1\u001B[39m,\u001B[38;5;241m2\u001B[39m,\u001B[38;5;241m3\u001B[39m,\u001B[38;5;241m4\u001B[39m,\u001B[38;5;241m5\u001B[39m, \u001B[38;5;241m6\u001B[39m], [\u001B[38;5;241m7\u001B[39m, \u001B[38;5;241m8\u001B[39m, \u001B[38;5;241m9\u001B[39m, \u001B[38;5;241m10\u001B[39m, \u001B[38;5;241m11\u001B[39m, \u001B[38;5;241m12\u001B[39m]])\n\u001B[0;32m      3\u001B[0m \u001B[38;5;66;03m# 保持批次不变, 改变每个批次的向量的形状\u001B[39;00m\n\u001B[0;32m      4\u001B[0m tensor\u001B[38;5;241m.\u001B[39mview(\u001B[38;5;241m-\u001B[39m\u001B[38;5;241m1\u001B[39m, \u001B[38;5;241m3\u001B[39m, \u001B[38;5;241m2\u001B[39m)\n",
      "\u001B[1;31mNameError\u001B[0m: name 'torch' is not defined"
     ]
    }
   ],
   "source": [
    "# 现在这个 tensor 代表一个 2 个批次，每个批次 6 个向量元素的矩阵\n",
    "tensor = torch.tensor([[1,2,3,4,5, 6], [7, 8, 9, 10, 11, 12]])\n",
    "# 保持批次不变, 改变每个批次的向量的形状\n",
    "tensor.view(-1, 3, 2)"
   ],
   "metadata": {
    "collapsed": false,
    "ExecuteTime": {
     "end_time": "2023-11-01T07:11:20.820458900Z",
     "start_time": "2023-11-01T07:11:20.352524800Z"
    }
   },
   "id": "f46bf050522ce2ac"
  },
  {
   "cell_type": "markdown",
   "source": [
    "下面两个代码块详细说明了矩阵计算中指定 dim 是如何进行的"
   ],
   "metadata": {
    "collapsed": false
   },
   "id": "77d8b7641ec8247d"
  },
  {
   "cell_type": "code",
   "execution_count": 9,
   "outputs": [
    {
     "name": "stdout",
     "output_type": "stream",
     "text": [
      "2\n",
      "tensor([4., 5., 6., 7., 8., 9.])\n"
     ]
    }
   ],
   "source": [
    "X = torch.tensor([[1,2,3,4,5, 6], [7, 8, 9, 10, 11, 12]], dtype=torch.float)\n",
    "print(len(X.shape))\n",
    "print(X.mean(dim=0))"
   ],
   "metadata": {
    "collapsed": false,
    "ExecuteTime": {
     "end_time": "2023-11-01T07:14:13.649095800Z",
     "start_time": "2023-11-01T07:14:13.608359600Z"
    }
   },
   "id": "2c491ed1d7356216"
  },
  {
   "cell_type": "code",
   "execution_count": 11,
   "outputs": [
    {
     "name": "stdout",
     "output_type": "stream",
     "text": [
      "tensor([[[ 1.,  2.,  3.],\n",
      "         [ 4.,  5.,  6.]],\n",
      "\n",
      "        [[ 7.,  8.,  9.],\n",
      "         [10., 11., 12.]]])\n",
      "torch.Size([2, 2, 3])\n",
      "torch.Size([2, 3])\n",
      "tensor([[ 2.5000,  3.5000,  4.5000],\n",
      "        [ 8.5000,  9.5000, 10.5000]])\n"
     ]
    }
   ],
   "source": [
    "X = torch.tensor([[[1,2,3], [4,5, 6]], [[7, 8, 9], [10, 11, 12]]], dtype=torch.float)\n",
    "print(X)\n",
    "print(X.shape)\n",
    "X_mean = X.mean(dim=1)\n",
    "print(X_mean.shape)\n",
    "print(X_mean)"
   ],
   "metadata": {
    "collapsed": false,
    "ExecuteTime": {
     "end_time": "2023-11-01T07:20:24.568604600Z",
     "start_time": "2023-11-01T07:20:24.558475800Z"
    }
   },
   "id": "b95ca774400a24c0"
  },
  {
   "cell_type": "code",
   "execution_count": 15,
   "outputs": [
    {
     "name": "stdout",
     "output_type": "stream",
     "text": [
      "torch.Size([1, 5])\n",
      "tensor([[ 0.6967,  3.6967,  9.6967, 15.6967, 21.6967, 21.6967, 14.6967]],\n",
      "       grad_fn=<SqueezeBackward1>)\n"
     ]
    }
   ],
   "source": [
    "conv_trans = torch.nn.ConvTranspose1d(in_channels=1, out_channels=1, kernel_size=3, padding=0)\n",
    "\n",
    "# 创建一个 1x5 的矩阵\n",
    "x = torch.tensor([[1, 2, 3, 4, 5]], dtype=torch.float32)\n",
    "print(x.shape)\n",
    "# 设置卷积核权重        \n",
    "conv_trans.weight.data = torch.tensor([[[1.0, 2.0, 3.0]]])\n",
    "\n",
    "# 转置卷积运算\n",
    "y = conv_trans(x)\n",
    "print(y)"
   ],
   "metadata": {
    "collapsed": false,
    "ExecuteTime": {
     "end_time": "2023-11-06T08:06:05.382626300Z",
     "start_time": "2023-11-06T08:06:05.368066600Z"
    }
   },
   "id": "beeb4c9c6090d1eb"
  },
  {
   "cell_type": "code",
   "execution_count": 8,
   "outputs": [
    {
     "name": "stdout",
     "output_type": "stream",
     "text": [
      "tensor([[[1., 3., 6., 6., 5., 3.]]], grad_fn=<ConvolutionBackward0>)\n"
     ]
    }
   ],
   "source": [
    "import torch\n",
    "import torch.nn as nn\n",
    "\n",
    "input = torch.ones(1, 1, 4) # input [[[1, 1, 1, 1]]]\n",
    "# 注意这里是有一个 bias 测试准确值的时候一定要有去掉这个 bias\n",
    "t_conv = nn.ConvTranspose1d(\n",
    "    in_channels=1,\n",
    "    out_channels=1,\n",
    "    stride=1,\n",
    "    kernel_size=3,\n",
    "    bias=False\n",
    ")\n",
    "t_conv.weight.data = torch.tensor(data=[[[1, 2, 3]]], dtype=torch.float)\n",
    "print(t_conv(input)) # output [[[1., 2., 4., 2., 4., 2., 4., 2., 3.]]]\n"
   ],
   "metadata": {
    "collapsed": false,
    "ExecuteTime": {
     "end_time": "2023-11-06T13:38:24.083646800Z",
     "start_time": "2023-11-06T13:38:24.061726400Z"
    }
   },
   "id": "8640893e8d815e26"
  }
 ],
 "metadata": {
  "kernelspec": {
   "display_name": "Python 3",
   "language": "python",
   "name": "python3"
  },
  "language_info": {
   "codemirror_mode": {
    "name": "ipython",
    "version": 2
   },
   "file_extension": ".py",
   "mimetype": "text/x-python",
   "name": "python",
   "nbconvert_exporter": "python",
   "pygments_lexer": "ipython2",
   "version": "2.7.6"
  }
 },
 "nbformat": 4,
 "nbformat_minor": 5
}
